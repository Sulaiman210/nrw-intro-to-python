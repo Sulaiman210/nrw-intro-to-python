{
  "nbformat": 4,
  "nbformat_minor": 0,
  "metadata": {
    "colab": {
      "provenance": []
    },
    "kernelspec": {
      "name": "python3",
      "display_name": "Python 3"
    }
  },
  "cells": [
    {
      "cell_type": "code",
      "source": [],
      "metadata": {
        "id": "Qz3dsPFrR7_M"
      },
      "execution_count": null,
      "outputs": []
    },
    {
      "cell_type": "markdown",
      "metadata": {
        "id": "jHXW5E0kZ38J"
      },
      "source": [
        "![Immoscout](https://raw.githubusercontent.com/juliandnl/redi_ss20/master/image.png)"
      ]
    },
    {
      "cell_type": "markdown",
      "metadata": {
        "id": "KAxkfPwXadvb"
      },
      "source": [
        "# Project - Immobilien Scout 24\n",
        "\n",
        "--- \n",
        "## The description:\n",
        "Welcome to your first project! Have you heard about Immobilienscout 24?  [Immobilienscout 24](https://https://www.immobilienscout24.de/). It the biggest platform for renting appartments in Germany. The company hires data analysts and data scientists for analyzing the market data. They are especially interested in the Berlin market. The company wants to understand where to publish advertisment.\n",
        "\n",
        "--- \n",
        "## The dataset:\n",
        "The datasets contains information about rental appartments in Berlin. \n",
        "One row is for one appartment. The dataset contains 6 columns.  \n",
        "- Region: is the Berlin district, where the flat is located\n",
        "- Condition: is the condition of the flat\n",
        "- Rooms: The number of rooms the flat has\n",
        "- Rent: Monthly rent for the flat\n",
        "- Year_Construction: The year in which the house was build\n",
        "- Space: How many square meters does the flat has?\n",
        "\n",
        "--- \n",
        "## The Task:\n",
        "1. What kind of information do we have?\n",
        "2. In which conditions are the flats?\n",
        "3. Where are the appartments located?\n",
        "\n",
        "Bonus Questions:\n",
        "4. What is the mean rent?\n"
      ]
    },
    {
      "cell_type": "code",
      "source": [
        "# Imports\n",
        "import pandas as pd"
      ],
      "metadata": {
        "id": "sdkjK7QWoqJf"
      },
      "execution_count": 1,
      "outputs": []
    },
    {
      "cell_type": "code",
      "source": [
        "# install plotly\n",
        "# https://plotly.com/python/pandas-backend/\n",
        "!pip install plotly==4.14.3\n",
        "pd.options.plotting.backend = \"plotly\""
      ],
      "metadata": {
        "id": "RTsSQOcwo4PG",
        "outputId": "b8c09afa-626b-41d7-d342-5b2c8f200b40",
        "colab": {
          "base_uri": "https://localhost:8080/"
        }
      },
      "execution_count": 2,
      "outputs": [
        {
          "output_type": "stream",
          "name": "stdout",
          "text": [
            "Looking in indexes: https://pypi.org/simple, https://us-python.pkg.dev/colab-wheels/public/simple/\n",
            "Collecting plotly==4.14.3\n",
            "  Downloading plotly-4.14.3-py2.py3-none-any.whl (13.2 MB)\n",
            "\u001b[2K     \u001b[90m━━━━━━━━━━━━━━━━━━━━━━━━━━━━━━━━━━━━━━━━\u001b[0m \u001b[32m13.2/13.2 MB\u001b[0m \u001b[31m93.6 MB/s\u001b[0m eta \u001b[36m0:00:00\u001b[0m\n",
            "\u001b[?25hRequirement already satisfied: six in /usr/local/lib/python3.9/dist-packages (from plotly==4.14.3) (1.15.0)\n",
            "Collecting retrying>=1.3.3\n",
            "  Downloading retrying-1.3.4-py3-none-any.whl (11 kB)\n",
            "Installing collected packages: retrying, plotly\n",
            "  Attempting uninstall: plotly\n",
            "    Found existing installation: plotly 5.13.1\n",
            "    Uninstalling plotly-5.13.1:\n",
            "      Successfully uninstalled plotly-5.13.1\n",
            "Successfully installed plotly-4.14.3 retrying-1.3.4\n"
          ]
        }
      ]
    },
    {
      "cell_type": "code",
      "source": [
        "# Read in dataset\n",
        "rentals = pd.read_csv(\"https://raw.githubusercontent.com/juliandnl/redi_ss20/master/berlin_rental.csv\")\n",
        "rentals.tail()"
      ],
      "metadata": {
        "id": "RtpjCNeso83v",
        "outputId": "f2d4ab65-01d2-4e22-f5a6-b99bde71379f",
        "colab": {
          "base_uri": "https://localhost:8080/",
          "height": 206
        }
      },
      "execution_count": 3,
      "outputs": [
        {
          "output_type": "execute_result",
          "data": {
            "text/plain": [
              "          Region        Condition  Rooms    Rent  Year_Construction   Space\n",
              "759      Wedding   mint_condition    1.0   959.0               2017   27.80\n",
              "760      Wedding   mint_condition    1.0   649.0               2017   20.50\n",
              "761  Wilmersdorf   mint_condition    4.0  2750.0               2017  110.00\n",
              "762     Köpenick        well_kept    2.0  1259.0               2017   91.20\n",
              "763     Neukölln  fully_renovated    2.0   888.0               1990   68.48"
            ],
            "text/html": [
              "\n",
              "  <div id=\"df-f5fbee88-be31-40d1-b3c2-ed4dd4742b07\">\n",
              "    <div class=\"colab-df-container\">\n",
              "      <div>\n",
              "<style scoped>\n",
              "    .dataframe tbody tr th:only-of-type {\n",
              "        vertical-align: middle;\n",
              "    }\n",
              "\n",
              "    .dataframe tbody tr th {\n",
              "        vertical-align: top;\n",
              "    }\n",
              "\n",
              "    .dataframe thead th {\n",
              "        text-align: right;\n",
              "    }\n",
              "</style>\n",
              "<table border=\"1\" class=\"dataframe\">\n",
              "  <thead>\n",
              "    <tr style=\"text-align: right;\">\n",
              "      <th></th>\n",
              "      <th>Region</th>\n",
              "      <th>Condition</th>\n",
              "      <th>Rooms</th>\n",
              "      <th>Rent</th>\n",
              "      <th>Year_Construction</th>\n",
              "      <th>Space</th>\n",
              "    </tr>\n",
              "  </thead>\n",
              "  <tbody>\n",
              "    <tr>\n",
              "      <th>759</th>\n",
              "      <td>Wedding</td>\n",
              "      <td>mint_condition</td>\n",
              "      <td>1.0</td>\n",
              "      <td>959.0</td>\n",
              "      <td>2017</td>\n",
              "      <td>27.80</td>\n",
              "    </tr>\n",
              "    <tr>\n",
              "      <th>760</th>\n",
              "      <td>Wedding</td>\n",
              "      <td>mint_condition</td>\n",
              "      <td>1.0</td>\n",
              "      <td>649.0</td>\n",
              "      <td>2017</td>\n",
              "      <td>20.50</td>\n",
              "    </tr>\n",
              "    <tr>\n",
              "      <th>761</th>\n",
              "      <td>Wilmersdorf</td>\n",
              "      <td>mint_condition</td>\n",
              "      <td>4.0</td>\n",
              "      <td>2750.0</td>\n",
              "      <td>2017</td>\n",
              "      <td>110.00</td>\n",
              "    </tr>\n",
              "    <tr>\n",
              "      <th>762</th>\n",
              "      <td>Köpenick</td>\n",
              "      <td>well_kept</td>\n",
              "      <td>2.0</td>\n",
              "      <td>1259.0</td>\n",
              "      <td>2017</td>\n",
              "      <td>91.20</td>\n",
              "    </tr>\n",
              "    <tr>\n",
              "      <th>763</th>\n",
              "      <td>Neukölln</td>\n",
              "      <td>fully_renovated</td>\n",
              "      <td>2.0</td>\n",
              "      <td>888.0</td>\n",
              "      <td>1990</td>\n",
              "      <td>68.48</td>\n",
              "    </tr>\n",
              "  </tbody>\n",
              "</table>\n",
              "</div>\n",
              "      <button class=\"colab-df-convert\" onclick=\"convertToInteractive('df-f5fbee88-be31-40d1-b3c2-ed4dd4742b07')\"\n",
              "              title=\"Convert this dataframe to an interactive table.\"\n",
              "              style=\"display:none;\">\n",
              "        \n",
              "  <svg xmlns=\"http://www.w3.org/2000/svg\" height=\"24px\"viewBox=\"0 0 24 24\"\n",
              "       width=\"24px\">\n",
              "    <path d=\"M0 0h24v24H0V0z\" fill=\"none\"/>\n",
              "    <path d=\"M18.56 5.44l.94 2.06.94-2.06 2.06-.94-2.06-.94-.94-2.06-.94 2.06-2.06.94zm-11 1L8.5 8.5l.94-2.06 2.06-.94-2.06-.94L8.5 2.5l-.94 2.06-2.06.94zm10 10l.94 2.06.94-2.06 2.06-.94-2.06-.94-.94-2.06-.94 2.06-2.06.94z\"/><path d=\"M17.41 7.96l-1.37-1.37c-.4-.4-.92-.59-1.43-.59-.52 0-1.04.2-1.43.59L10.3 9.45l-7.72 7.72c-.78.78-.78 2.05 0 2.83L4 21.41c.39.39.9.59 1.41.59.51 0 1.02-.2 1.41-.59l7.78-7.78 2.81-2.81c.8-.78.8-2.07 0-2.86zM5.41 20L4 18.59l7.72-7.72 1.47 1.35L5.41 20z\"/>\n",
              "  </svg>\n",
              "      </button>\n",
              "      \n",
              "  <style>\n",
              "    .colab-df-container {\n",
              "      display:flex;\n",
              "      flex-wrap:wrap;\n",
              "      gap: 12px;\n",
              "    }\n",
              "\n",
              "    .colab-df-convert {\n",
              "      background-color: #E8F0FE;\n",
              "      border: none;\n",
              "      border-radius: 50%;\n",
              "      cursor: pointer;\n",
              "      display: none;\n",
              "      fill: #1967D2;\n",
              "      height: 32px;\n",
              "      padding: 0 0 0 0;\n",
              "      width: 32px;\n",
              "    }\n",
              "\n",
              "    .colab-df-convert:hover {\n",
              "      background-color: #E2EBFA;\n",
              "      box-shadow: 0px 1px 2px rgba(60, 64, 67, 0.3), 0px 1px 3px 1px rgba(60, 64, 67, 0.15);\n",
              "      fill: #174EA6;\n",
              "    }\n",
              "\n",
              "    [theme=dark] .colab-df-convert {\n",
              "      background-color: #3B4455;\n",
              "      fill: #D2E3FC;\n",
              "    }\n",
              "\n",
              "    [theme=dark] .colab-df-convert:hover {\n",
              "      background-color: #434B5C;\n",
              "      box-shadow: 0px 1px 3px 1px rgba(0, 0, 0, 0.15);\n",
              "      filter: drop-shadow(0px 1px 2px rgba(0, 0, 0, 0.3));\n",
              "      fill: #FFFFFF;\n",
              "    }\n",
              "  </style>\n",
              "\n",
              "      <script>\n",
              "        const buttonEl =\n",
              "          document.querySelector('#df-f5fbee88-be31-40d1-b3c2-ed4dd4742b07 button.colab-df-convert');\n",
              "        buttonEl.style.display =\n",
              "          google.colab.kernel.accessAllowed ? 'block' : 'none';\n",
              "\n",
              "        async function convertToInteractive(key) {\n",
              "          const element = document.querySelector('#df-f5fbee88-be31-40d1-b3c2-ed4dd4742b07');\n",
              "          const dataTable =\n",
              "            await google.colab.kernel.invokeFunction('convertToInteractive',\n",
              "                                                     [key], {});\n",
              "          if (!dataTable) return;\n",
              "\n",
              "          const docLinkHtml = 'Like what you see? Visit the ' +\n",
              "            '<a target=\"_blank\" href=https://colab.research.google.com/notebooks/data_table.ipynb>data table notebook</a>'\n",
              "            + ' to learn more about interactive tables.';\n",
              "          element.innerHTML = '';\n",
              "          dataTable['output_type'] = 'display_data';\n",
              "          await google.colab.output.renderOutput(dataTable, element);\n",
              "          const docLink = document.createElement('div');\n",
              "          docLink.innerHTML = docLinkHtml;\n",
              "          element.appendChild(docLink);\n",
              "        }\n",
              "      </script>\n",
              "    </div>\n",
              "  </div>\n",
              "  "
            ]
          },
          "metadata": {},
          "execution_count": 3
        }
      ]
    },
    {
      "cell_type": "code",
      "source": [
        "rentals.info()"
      ],
      "metadata": {
        "id": "-08wURINV7Ie",
        "outputId": "312dbb97-e6b6-48af-e684-f676eb5f31fd",
        "colab": {
          "base_uri": "https://localhost:8080/"
        }
      },
      "execution_count": 4,
      "outputs": [
        {
          "output_type": "stream",
          "name": "stdout",
          "text": [
            "<class 'pandas.core.frame.DataFrame'>\n",
            "RangeIndex: 764 entries, 0 to 763\n",
            "Data columns (total 6 columns):\n",
            " #   Column             Non-Null Count  Dtype  \n",
            "---  ------             --------------  -----  \n",
            " 0   Region             764 non-null    object \n",
            " 1   Condition          764 non-null    object \n",
            " 2   Rooms              764 non-null    float64\n",
            " 3   Rent               764 non-null    float64\n",
            " 4   Year_Construction  764 non-null    int64  \n",
            " 5   Space              764 non-null    float64\n",
            "dtypes: float64(3), int64(1), object(2)\n",
            "memory usage: 35.9+ KB\n"
          ]
        }
      ]
    },
    {
      "cell_type": "code",
      "source": [
        "rentals.Condition.value_counts()"
      ],
      "metadata": {
        "id": "G97grl0SWBaD",
        "outputId": "a11cf89f-9b54-47dc-c4c0-09a57d72328e",
        "colab": {
          "base_uri": "https://localhost:8080/"
        }
      },
      "execution_count": 5,
      "outputs": [
        {
          "output_type": "execute_result",
          "data": {
            "text/plain": [
              "first_time_use                        270\n",
              "mint_condition                        143\n",
              "no_information                        111\n",
              "well_kept                              96\n",
              "refurbished                            40\n",
              "first_time_use_after_refurbishment     36\n",
              "fully_renovated                        35\n",
              "modernized                             29\n",
              "need_of_renovation                      4\n",
              "Name: Condition, dtype: int64"
            ]
          },
          "metadata": {},
          "execution_count": 5
        }
      ]
    },
    {
      "cell_type": "code",
      "source": [
        "rentals.Condition.nunique()"
      ],
      "metadata": {
        "id": "tzfGEtKsXIg1",
        "outputId": "28b6fdd7-f91d-44f4-ae21-319846e17397",
        "colab": {
          "base_uri": "https://localhost:8080/"
        }
      },
      "execution_count": 6,
      "outputs": [
        {
          "output_type": "execute_result",
          "data": {
            "text/plain": [
              "9"
            ]
          },
          "metadata": {},
          "execution_count": 6
        }
      ]
    },
    {
      "cell_type": "code",
      "source": [
        "rentals.Region.value_counts()"
      ],
      "metadata": {
        "id": "ebt--9jqXc4C",
        "outputId": "ef5eab26-4ed9-4fd5-a3d4-d5e51936dbb9",
        "colab": {
          "base_uri": "https://localhost:8080/"
        }
      },
      "execution_count": 7,
      "outputs": [
        {
          "output_type": "execute_result",
          "data": {
            "text/plain": [
              "Tiergarten         171\n",
              "Mitte              153\n",
              "Charlottenburg      79\n",
              "Neukölln            59\n",
              "Köpenick            55\n",
              "Wilmersdorf         53\n",
              "Prenzlauer          53\n",
              "Friedrichsfelde     52\n",
              "Kreuzberg           47\n",
              "Wedding             42\n",
              "Name: Region, dtype: int64"
            ]
          },
          "metadata": {},
          "execution_count": 7
        }
      ]
    },
    {
      "cell_type": "code",
      "source": [
        "rentals.Rent.mean()"
      ],
      "metadata": {
        "id": "mtQ2JYFpYM_J",
        "outputId": "dd37419d-6656-48ad-c4b7-71f056b83657",
        "colab": {
          "base_uri": "https://localhost:8080/"
        }
      },
      "execution_count": 8,
      "outputs": [
        {
          "output_type": "execute_result",
          "data": {
            "text/plain": [
              "1768.560942408377"
            ]
          },
          "metadata": {},
          "execution_count": 8
        }
      ]
    },
    {
      "cell_type": "markdown",
      "metadata": {
        "id": "k2Gv9pEiU4Ao"
      },
      "source": [
        "# 1. What kind of information do we have?"
      ]
    },
    {
      "cell_type": "markdown",
      "metadata": {
        "id": "FrujnQH60Wt3"
      },
      "source": [
        "# 2. In which conditions are the flats?"
      ]
    },
    {
      "cell_type": "markdown",
      "metadata": {
        "id": "KwB1lNjx0YdA"
      },
      "source": [
        "# 3. Where are the appartments located?"
      ]
    },
    {
      "cell_type": "markdown",
      "metadata": {
        "id": "pWtdIHKbqq7R"
      },
      "source": [
        "# BONUS 4. What is the mean rent?\n",
        "Have a look at:\n",
        "- https://stackoverflow.com/questions/31037298/pandas-get-column-average-mean\n",
        "- https://pandas.pydata.org/pandas-docs/stable/reference/api/pandas.DataFrame.mean.html"
      ]
    },
    {
      "cell_type": "markdown",
      "metadata": {
        "id": "wTOrpLU3ydPb"
      },
      "source": [
        "--- \n",
        "# Review\n",
        "\n",
        "This section is only for the reviewing team!\n",
        "\n",
        "Guideline how to review:\n",
        "https://docs.google.com/presentation/d/1YORFwlfVQo9ogj7jR9t6_pqxmGIlpBSGubbp1UdtcBQ/edit?usp=sharing\n"
      ]
    },
    {
      "cell_type": "code",
      "metadata": {
        "colab": {
          "base_uri": "https://localhost:8080/",
          "height": 168
        },
        "cellView": "form",
        "id": "9vtETkgtq3EZ",
        "outputId": "da19340c-b05d-46dd-e6d9-b653f26a3d1c"
      },
      "source": [
        "#@title Review Criteria:\n",
        "%%html\n",
        "<h3><input type=\"checkbox\"> 1. Are all questions answered? <br></h3> \n",
        "<h3><input type=\"checkbox\"> 2. Does all code run through? <br></h3> \n",
        "<h3><input type=\"checkbox\"> 3. Are the conclusions understandable?  <br></h3> \n",
        "<h3><input type=\"checkbox\"> 4. Are the bonus question answered?  <br></h3> "
      ],
      "execution_count": null,
      "outputs": [
        {
          "output_type": "display_data",
          "data": {
            "text/html": [
              "<h3><input type=\"checkbox\"> 1. Are all questions answered? <br></h3> \n",
              "<h3><input type=\"checkbox\"> 2. Does all code run through? <br></h3> \n",
              "<h3><input type=\"checkbox\"> 3. Are the conclusions understandable?  <br></h3> \n",
              "<h3><input type=\"checkbox\"> 4. Are the bonus question answered?  <br></h3> "
            ],
            "text/plain": [
              "<IPython.core.display.HTML object>"
            ]
          },
          "metadata": {
            "tags": []
          }
        }
      ]
    },
    {
      "cell_type": "code",
      "metadata": {
        "id": "fsfgxKrtrA-f"
      },
      "source": [
        "input(\"Do you have any feedback?\")"
      ],
      "execution_count": null,
      "outputs": []
    },
    {
      "cell_type": "markdown",
      "metadata": {
        "id": "-_xXkEtXJdI3"
      },
      "source": []
    }
  ]
}